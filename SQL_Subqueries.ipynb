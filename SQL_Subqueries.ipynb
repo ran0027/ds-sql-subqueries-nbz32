{
 "cells": [
  {
   "cell_type": "markdown",
   "metadata": {},
   "source": [
    "# SQL Subqueries and Implementations"
   ]
  },
  {
   "cell_type": "markdown",
   "metadata": {
    "heading_collapsed": true,
    "slideshow": {
     "slide_type": "slide"
    }
   },
   "source": [
    "# Objectives"
   ]
  },
  {
   "cell_type": "markdown",
   "metadata": {
    "hidden": true,
    "slideshow": {
     "slide_type": "slide"
    }
   },
   "source": [
    "- Use SQL subqueries to nest queries\n",
    "- Identify common SQL dialects and tools\n",
    "- Query data from web databases"
   ]
  },
  {
   "cell_type": "code",
   "execution_count": 1,
   "metadata": {},
   "outputs": [],
   "source": [
    "import pandas as pd\n",
    "import sqlite3"
   ]
  },
  {
   "cell_type": "markdown",
   "metadata": {},
   "source": [
    "# SQL Subqueries\n",
    "\n",
    "Like you might nest one function within another in Python, you can nest queries in SQL. We can use a **subquery** within another query to succinctly implement queries that have multiple query steps."
   ]
  },
  {
   "cell_type": "code",
   "execution_count": 2,
   "metadata": {},
   "outputs": [],
   "source": [
    "conn = sqlite3.connect('flights.db')"
   ]
  },
  {
   "cell_type": "markdown",
   "metadata": {},
   "source": [
    "## Subqueries in `FROM`\n",
    "\n",
    "You can use a subquery in the `FROM` clause - this is useful, for example, if you want to apply multiple aggregation functions.\n",
    "\n",
    "Let say we want to get the average of the number of routes departing from all airports. First we'd need to get the total number of routes departing from all airports, then take the average."
   ]
  },
  {
   "cell_type": "code",
   "execution_count": null,
   "metadata": {
    "scrolled": true
   },
   "outputs": [],
   "source": [
    "pd.read_sql('''\n",
    "    SELECT \n",
    "        source AS depart_airport\n",
    "        , COUNT() AS number_of_departures\n",
    "    FROM\n",
    "        routes\n",
    "    GROUP BY\n",
    "        source\n",
    "''', conn)"
   ]
  },
  {
   "cell_type": "markdown",
   "metadata": {},
   "source": [
    "We can use this query as a subquery, and take the average of the new `number_of_departures` column."
   ]
  },
  {
   "cell_type": "code",
   "execution_count": null,
   "metadata": {},
   "outputs": [],
   "source": [
    "pd.read_sql('''\n",
    "    SELECT AVG(number_of_departures)\n",
    "    FROM \n",
    "        (SELECT \n",
    "            source AS depart_airport\n",
    "            , COUNT() AS number_of_departures\n",
    "        FROM\n",
    "            routes\n",
    "        GROUP BY\n",
    "            source)\n",
    "''', conn)"
   ]
  },
  {
   "cell_type": "markdown",
   "metadata": {},
   "source": [
    "## Subqueries in `WHERE`\n",
    "\n",
    "You can use a subquery in the `WHERE` clause - this is useful, for example, if you want to filter a query based on results from another query.\n",
    "\n",
    "Let's say that we want to get a table with all of the departures and destinations for the flight routes, but I only want to include flights departing from the five countries with the most airports.\n",
    "\n",
    "To do this, we'd first need to identify the five countries that have the most airports. "
   ]
  },
  {
   "cell_type": "code",
   "execution_count": null,
   "metadata": {},
   "outputs": [],
   "source": [
    "pd.read_sql('''\n",
    "    SELECT \n",
    "        country,  \n",
    "        COUNT() AS number_of_airports_in_country\n",
    "    FROM\n",
    "        airports\n",
    "    GROUP BY\n",
    "        country\n",
    "    ORDER BY\n",
    "        number_of_airports_in_country DESC\n",
    "    LIMIT 5\n",
    "''', conn)"
   ]
  },
  {
   "cell_type": "markdown",
   "metadata": {},
   "source": [
    "I could enter these results into a new query of the routes table to get the data I want."
   ]
  },
  {
   "cell_type": "code",
   "execution_count": null,
   "metadata": {},
   "outputs": [],
   "source": [
    "pd.read_sql('''\n",
    "    SELECT \n",
    "        rt.source AS depart_airport, \n",
    "        rt.dest AS destination_airport, \n",
    "        ap.country AS depart_country\n",
    "    FROM\n",
    "        routes AS rt\n",
    "    LEFT JOIN airports AS ap\n",
    "        ON rt.source_id = ap.id\n",
    "    WHERE ap.country IN (\"United States\", \"Canada\", \"Germany\", \"Australia\", \"Russia\")\n",
    "    ORDER BY depart_country\n",
    "''', conn)"
   ]
  },
  {
   "cell_type": "markdown",
   "metadata": {},
   "source": [
    "This approach works but has a few limitations:\n",
    "\n",
    "- We have to manually enter the countries to filter them\n",
    "- The list of countries won't update with our data, so we'd have to monitor and manually change them in the future\n",
    "- We have to look at two separate queries to understand what our code is supposed to do\n",
    "- We have to run two separate queries, which might take longer than one combined query\n",
    "\n",
    "A better solution uses a subquery to get the list of 5 countries and feed it into our WHERE clause."
   ]
  },
  {
   "cell_type": "code",
   "execution_count": null,
   "metadata": {},
   "outputs": [],
   "source": [
    "pd.read_sql('''\n",
    "    SELECT \n",
    "        rt.source AS depart_airport, \n",
    "        rt.dest AS destination_airport, \n",
    "        ap.country AS depart_country\n",
    "    FROM\n",
    "        routes AS rt\n",
    "    LEFT JOIN airports AS ap\n",
    "        ON rt.source_id = ap.id\n",
    "    WHERE ap.country IN \n",
    "    -- Subquery to get the 5 countries with the most airports\n",
    "    \n",
    "        (SELECT country \n",
    "         FROM airports\n",
    "         GROUP BY country\n",
    "         ORDER BY COUNT() DESC\n",
    "         LIMIT 5)\n",
    "    \n",
    "    ORDER BY depart_country\n",
    "''', conn)"
   ]
  },
  {
   "cell_type": "markdown",
   "metadata": {},
   "source": [
    "## Level Up: Common Table Expressions\n",
    "\n",
    "Common Table Expressions (CTEs) are a more readable way to implement subqueries, using `WITH` and `AS`."
   ]
  },
  {
   "cell_type": "code",
   "execution_count": null,
   "metadata": {},
   "outputs": [],
   "source": [
    "pd.read_sql('''\n",
    "\n",
    "    WITH top_5_countries AS \n",
    "        (SELECT country \n",
    "         FROM airports\n",
    "         GROUP BY country\n",
    "         ORDER BY COUNT() DESC\n",
    "         LIMIT 5) \n",
    "    \n",
    "    SELECT \n",
    "        rt.source AS depart_airport, \n",
    "        rt.dest AS destination_airport, \n",
    "        ap.country AS depart_country\n",
    "    FROM\n",
    "        routes AS rt\n",
    "    LEFT JOIN airports AS ap\n",
    "        ON rt.source_id = ap.id\n",
    "    WHERE ap.country IN top_5_countries\n",
    "    \n",
    "    ORDER BY depart_country\n",
    "''', conn)"
   ]
  },
  {
   "cell_type": "markdown",
   "metadata": {},
   "source": [
    "## Exercise\n",
    "\n",
    "Create a table listing all airlines that serve the three airports with the most outbound routes.\n",
    "\n",
    "<p>\n",
    "</p>\n",
    "<details>\n",
    "    <summary><b><u>Click Here for Answer Code</u></b></summary>\n",
    "\n",
    "    pd.read_sql('''\n",
    "\n",
    "    WITH top_3_airports AS \n",
    "        (SELECT airports.id \n",
    "         FROM airports \n",
    "         LEFT JOIN routes\n",
    "            ON routes.source_id = airports.id\n",
    "         GROUP BY airports.id\n",
    "         ORDER BY COUNT() DESC\n",
    "         LIMIT 3) \n",
    "    \n",
    "    SELECT DISTINCT\n",
    "        rt.airline\n",
    "    FROM\n",
    "        routes AS rt\n",
    "    LEFT JOIN airports AS ap\n",
    "        ON rt.source_id = ap.id\n",
    "    WHERE rt.source_id IN top_3_airports\n",
    "\n",
    "    ''', conn)\n",
    "    \n",
    "</details>"
   ]
  },
  {
   "cell_type": "code",
   "execution_count": 20,
   "metadata": {},
   "outputs": [
    {
     "data": {
      "text/html": [
       "<div>\n",
       "<style scoped>\n",
       "    .dataframe tbody tr th:only-of-type {\n",
       "        vertical-align: middle;\n",
       "    }\n",
       "\n",
       "    .dataframe tbody tr th {\n",
       "        vertical-align: top;\n",
       "    }\n",
       "\n",
       "    .dataframe thead th {\n",
       "        text-align: right;\n",
       "    }\n",
       "</style>\n",
       "<table border=\"1\" class=\"dataframe\">\n",
       "  <thead>\n",
       "    <tr style=\"text-align: right;\">\n",
       "      <th></th>\n",
       "      <th>name</th>\n",
       "    </tr>\n",
       "  </thead>\n",
       "  <tbody>\n",
       "    <tr>\n",
       "      <th>0</th>\n",
       "      <td>Air Choice One</td>\n",
       "    </tr>\n",
       "    <tr>\n",
       "      <th>1</th>\n",
       "      <td>Sichuan Airlines</td>\n",
       "    </tr>\n",
       "    <tr>\n",
       "      <th>2</th>\n",
       "      <td>Cebu Pacific</td>\n",
       "    </tr>\n",
       "    <tr>\n",
       "      <th>3</th>\n",
       "      <td>Cargo Plus Aviation</td>\n",
       "    </tr>\n",
       "    <tr>\n",
       "      <th>4</th>\n",
       "      <td>Pinnacle Airlines</td>\n",
       "    </tr>\n",
       "    <tr>\n",
       "      <th>...</th>\n",
       "      <td>...</td>\n",
       "    </tr>\n",
       "    <tr>\n",
       "      <th>96</th>\n",
       "      <td>Southwest Airlines</td>\n",
       "    </tr>\n",
       "    <tr>\n",
       "      <th>97</th>\n",
       "      <td>WestJet</td>\n",
       "    </tr>\n",
       "    <tr>\n",
       "      <th>98</th>\n",
       "      <td>Volaris</td>\n",
       "    </tr>\n",
       "    <tr>\n",
       "      <th>99</th>\n",
       "      <td>NordStar Airlines</td>\n",
       "    </tr>\n",
       "    <tr>\n",
       "      <th>100</th>\n",
       "      <td>Shenzhen Airlines</td>\n",
       "    </tr>\n",
       "  </tbody>\n",
       "</table>\n",
       "<p>101 rows × 1 columns</p>\n",
       "</div>"
      ],
      "text/plain": [
       "                    name\n",
       "0         Air Choice One\n",
       "1       Sichuan Airlines\n",
       "2           Cebu Pacific\n",
       "3    Cargo Plus Aviation\n",
       "4      Pinnacle Airlines\n",
       "..                   ...\n",
       "96    Southwest Airlines\n",
       "97               WestJet\n",
       "98               Volaris\n",
       "99     NordStar Airlines\n",
       "100    Shenzhen Airlines\n",
       "\n",
       "[101 rows x 1 columns]"
      ]
     },
     "execution_count": 20,
     "metadata": {},
     "output_type": "execute_result"
    }
   ],
   "source": [
    "## Your work here\n",
    "query = '''\n",
    "        WITH top_3_airports AS\n",
    "            (SELECT source_id\n",
    "            FROM routes\n",
    "            GROUP BY source_id\n",
    "            ORDER BY COUNT() DESC\n",
    "            LIMIT 3)\n",
    "        \n",
    "        SELECT DISTINCT a.name\n",
    "        FROM airlines AS a\n",
    "        JOIN routes AS r\n",
    "            ON a.id = r.airline_id\n",
    "        WHERE r.source_id IN top_3_airports OR r.dest_id IN top_3_airports\n",
    "        ;\n",
    "        '''\n",
    "pd.read_sql(query, conn)"
   ]
  },
  {
   "cell_type": "markdown",
   "metadata": {},
   "source": [
    "# SQL Versions\n",
    "\n",
    "The is no one version of SQL - there are many versions out there! What you're learning about SQL with SQLite will apply to all of them. Just keep in mind when you apply for jobs that you may see any of these listed in any given job posting, and they are all just different versions of what you know."
   ]
  },
  {
   "cell_type": "markdown",
   "metadata": {},
   "source": [
    "## SQL Dialects\n",
    "\n",
    "As with dialects of spoken languages, SQL dialects have many commonalities but some differences in syntax and functionality.  Here are a few of the major players:\n",
    "\n",
    "- SQLite (we've already seen this!)\n",
    "- PostgreSQL (free and open-source!)\n",
    "- Oracle SQL\n",
    "- MySQL (half open-souce, half Oracle)\n",
    "- Microsoft SQL Server\n",
    "- Transact-SQL (extends MS SQL)"
   ]
  },
  {
   "cell_type": "markdown",
   "metadata": {},
   "source": [
    "## SQLite Pros & Cons\n",
    "\n",
    "We use SQLite in this course, but it has some limitations."
   ]
  },
  {
   "cell_type": "markdown",
   "metadata": {},
   "source": [
    "### Pros\n",
    "\n",
    "- Easy to set up\n",
    "- Easy to share database files\n",
    "- Uses little memory"
   ]
  },
  {
   "cell_type": "markdown",
   "metadata": {},
   "source": [
    "### Cons\n",
    "\n",
    "- Limited functionality for managing users and access permissions\n",
    "- Not \"thread safe\": two edits at the same time can mess up your data"
   ]
  },
  {
   "cell_type": "markdown",
   "metadata": {},
   "source": [
    "## Extra Resources: SQL Versions\n",
    "\n",
    "[What Is a SQL Dialect, and Which one Should You Learn?](https://learnsql.com/blog/what-sql-dialect-to-learn/)\n",
    "\n",
    "[SQLite vs MySQL vs PostgreSQL](https://www.digitalocean.com/community/tutorials/sqlite-vs-mysql-vs-postgresql-a-comparison-of-relational-database-management-systems)\n",
    "\n",
    "[SQL Dialect Reference](https://en.wikibooks.org/wiki/SQL_Dialects_Reference)"
   ]
  },
  {
   "cell_type": "markdown",
   "metadata": {},
   "source": [
    "# Web Databases: data.world\n",
    "\n",
    "For the rest of this lesson, we'll be exploring databases in [data.world](https://data.world/), a web database that we can query using SQL in our browser. For reference, you can see the instructions for creating a new project here: [Getting Started Working with Data at data.world](https://help.data.world/hc/en-us/articles/360008853693-Getting-started-guide#working_with_data)"
   ]
  },
  {
   "cell_type": "markdown",
   "metadata": {},
   "source": [
    "## Step 1: Create a data.world account\n",
    "\n",
    "You will need to enter and verify your email address."
   ]
  },
  {
   "cell_type": "markdown",
   "metadata": {},
   "source": [
    "## Step 2: Create a project using this [Austin AirBnB](https://data.world/jonloyens/inside-airbnb-austin) dataset\n",
    "\n",
    "Navigate to [this page](https://data.world/jonloyens/inside-airbnb-austin) and use the button at the top right of the page to create a new project using the data.\n",
    "\n",
    "![](img/data_world_austin_airbnb_new_proj.png)"
   ]
  },
  {
   "cell_type": "markdown",
   "metadata": {},
   "source": [
    "## Step 3: Create a SQL query\n",
    "\n",
    "In your project, use the \"+ Add\" button to add a SQL query.\n",
    "\n",
    "![](img/data_world_add_sql_query.png)"
   ]
  },
  {
   "cell_type": "markdown",
   "metadata": {},
   "source": [
    "## Step 4: Run a simple SQL query\n",
    "\n",
    "Try entering \"SELECT * FROM listings\" and clicking the \"Run Query\" button in the top right."
   ]
  },
  {
   "cell_type": "markdown",
   "metadata": {},
   "source": [
    "## Step 5: Practice using SQL to explore the data\n",
    "\n",
    "Below are some exercises to practice your SQL skills and help explore the data. You will need to explore the table schemas to complete these exercises. \n",
    "\n",
    "You may find it helpful to click on the corresponding .csv files to inspect the data, or look at the columns in each table in the right sidebar."
   ]
  },
  {
   "cell_type": "markdown",
   "metadata": {},
   "source": [
    "### Exercise 1: Create a table showing the number of listings in each neighborhood\n",
    "<p>\n",
    "</p>\n",
    "<details>\n",
    "    <summary><b><u>Click Here for Answer Code</u></b></summary>\n",
    "\n",
    "    SELECT neighbourhood, COUNT(*)\n",
    "    FROM listings\n",
    "    GROUP BY neighbourhood\n",
    "    \n",
    "</details>"
   ]
  },
  {
   "cell_type": "markdown",
   "metadata": {},
   "source": [
    "### Exercise 2: Create a table showing the 20 listings with the most reviews\n",
    "<p>\n",
    "</p>\n",
    "<details>\n",
    "    <summary><b><u>Click Here for Answer Code</u></b></summary>\n",
    "\n",
    "    SELECT *\n",
    "    FROM listings\n",
    "    ORDER BY number_of_reviews DESC\n",
    "    LIMIT 20\n",
    "    \n",
    "</details>"
   ]
  },
  {
   "cell_type": "markdown",
   "metadata": {},
   "source": [
    "### Exercise 3: Create a table showing all of the reviews for listings that are \"Bed & Breakfast\" property types.\n",
    "<p>\n",
    "</p>\n",
    "<details>\n",
    "    <summary><b><u>Click Here for Answer Code</u></b></summary>\n",
    "\n",
    "    SELECT *\n",
    "    FROM reviews\n",
    "    INNER JOIN listings\n",
    "        ON listings.id = reviews.listing_id\n",
    "    WHERE listings.property_type = \"Bed & Breakfast\"\n",
    "    \n",
    "</details>"
   ]
  },
  {
   "cell_type": "markdown",
   "metadata": {},
   "source": [
    "### Exercise 4: Run your own query using a subquery or CTE.\n",
    "\n",
    "Note that the syntax and functionality for subqueries and CTEs in data.world are more limited than SQLite, so try creating simple ones."
   ]
  }
 ],
 "metadata": {
  "kernelspec": {
   "display_name": "Python 3",
   "language": "python",
   "name": "python3"
  },
  "language_info": {
   "codemirror_mode": {
    "name": "ipython",
    "version": 3
   },
   "file_extension": ".py",
   "mimetype": "text/x-python",
   "name": "python",
   "nbconvert_exporter": "python",
   "pygments_lexer": "ipython3",
   "version": "3.8.5"
  },
  "toc": {
   "base_numbering": 1,
   "nav_menu": {},
   "number_sections": true,
   "sideBar": true,
   "skip_h1_title": false,
   "title_cell": "Table of Contents",
   "title_sidebar": "TOC",
   "toc_cell": true,
   "toc_position": {
    "height": "calc(100% - 180px)",
    "left": "10px",
    "top": "150px",
    "width": "380px"
   },
   "toc_section_display": true,
   "toc_window_display": true
  }
 },
 "nbformat": 4,
 "nbformat_minor": 2
}
